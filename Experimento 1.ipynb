{
 "cells": [
  {
   "cell_type": "code",
   "execution_count": 1,
   "metadata": {},
   "outputs": [
    {
     "name": "stderr",
     "output_type": "stream",
     "text": [
      "C:\\Users\\bruno\\Anaconda3\\lib\\site-packages\\h5py\\__init__.py:36: FutureWarning: Conversion of the second argument of issubdtype from `float` to `np.floating` is deprecated. In future, it will be treated as `np.float64 == np.dtype(float).type`.\n",
      "  from ._conv import register_converters as _register_converters\n"
     ]
    }
   ],
   "source": [
    "#importando as bibliotecas necessárias para o experimento\n",
    "import pandas as pd\n",
    "import tensorflow as tf\n",
    "from tensorflow.keras import layers\n",
    "from tensorflow.keras import callbacks"
   ]
  },
  {
   "cell_type": "code",
   "execution_count": 2,
   "metadata": {},
   "outputs": [],
   "source": [
    "#removendo colunas que não serão usadas\n",
    "df_train = pd.read_csv(\"data/train\", sep='\\t')\n",
    "df_train = df_train.drop(['Unnamed: 0', 'INDEX'], axis=1)\n",
    "\n",
    "df_validation = pd.read_csv(\"data/validation\", sep='\\t')\n",
    "df_validation = df_validation.drop(['Unnamed: 0', 'INDEX'], axis=1)\n",
    "\n",
    "#df_test = pd.read_csv(\"data/test\", sep='t')"
   ]
  },
  {
   "cell_type": "code",
   "execution_count": 3,
   "metadata": {},
   "outputs": [],
   "source": [
    "#pegando as colunas que serão usadas para as preditores x para variável a ser predizida y\n",
    "x_train = df_train.loc[:, 'UF_1':'CEP4_14']\n",
    "y_train = df_train.loc[:, 'IND_BOM_1_1']\n",
    "\n",
    "x_val = df_validation.loc[:, 'UF_1':'CEP4_14']\n",
    "y_val = df_validation.loc[:, 'IND_BOM_1_1']"
   ]
  },
  {
   "cell_type": "code",
   "execution_count": 4,
   "metadata": {},
   "outputs": [],
   "source": [
    "#constrói uma rede neural sequencial adicinando camadas incrementalmente\n",
    "#possui duas camadas ocultas de 32 neurônios, que usam a Relu e uma camada de sáida que usa a sigmoid.\n",
    "mlp = tf.keras.Sequential([\n",
    "    layers.Dense(32, activation='relu', input_dim=x_train.shape[1]),\n",
    "    layers.Dense(32, activation='relu'),\n",
    "    layers.Dense(1, activation='sigmoid')])"
   ]
  },
  {
   "cell_type": "code",
   "execution_count": 5,
   "metadata": {},
   "outputs": [],
   "source": [
    "#compilando o modelo com o otimizador Gradiente Descedente com taxa de aprendizagem de 0.001\n",
    "#a função de perda é a média do erro ao quadrado\n",
    "# a métrica a ser avalida é a acurácia\n",
    "mlp.compile(optimizer=tf.train.GradientDescentOptimizer(0.001),\n",
    "              loss='mean_squared_error',\n",
    "              metrics=['accuracy'])"
   ]
  },
  {
   "cell_type": "code",
   "execution_count": null,
   "metadata": {},
   "outputs": [
    {
     "name": "stdout",
     "output_type": "stream",
     "text": [
      "Train on 261647 samples, validate on 130822 samples\n",
      "Epoch 1/10000\n",
      "261647/261647 [==============================] - 13s 49us/step - loss: 0.2504 - acc: 0.5225 - val_loss: 0.2485 - val_acc: 0.5357\n",
      "Epoch 2/10000\n",
      "261647/261647 [==============================] - 10s 37us/step - loss: 0.2473 - acc: 0.5429 - val_loss: 0.2463 - val_acc: 0.5514\n",
      "Epoch 3/10000\n",
      "261647/261647 [==============================] - 10s 38us/step - loss: 0.2455 - acc: 0.5556 - val_loss: 0.2446 - val_acc: 0.5620\n",
      "Epoch 4/10000\n",
      "261647/261647 [==============================] - 11s 42us/step - loss: 0.2440 - acc: 0.5650 - val_loss: 0.2431 - val_acc: 0.5707\n",
      "Epoch 5/10000\n",
      "261647/261647 [==============================] - 13s 50us/step - loss: 0.2426 - acc: 0.5729 - val_loss: 0.2418 - val_acc: 0.5775\n",
      "Epoch 6/10000\n",
      "261647/261647 [==============================] - 11s 43us/step - loss: 0.2413 - acc: 0.5801 - val_loss: 0.2405 - val_acc: 0.5831\n",
      "Epoch 7/10000\n",
      "261647/261647 [==============================] - 11s 41us/step - loss: 0.2401 - acc: 0.5857 - val_loss: 0.2393 - val_acc: 0.5894\n",
      "Epoch 8/10000\n",
      "261647/261647 [==============================] - 11s 40us/step - loss: 0.2389 - acc: 0.5910 - val_loss: 0.2382 - val_acc: 0.5938\n",
      "Epoch 9/10000\n",
      "261647/261647 [==============================] - 12s 46us/step - loss: 0.2379 - acc: 0.5947 - val_loss: 0.2372 - val_acc: 0.5982\n",
      "Epoch 10/10000\n",
      "261647/261647 [==============================] - 12s 44us/step - loss: 0.2370 - acc: 0.5986 - val_loss: 0.2363 - val_acc: 0.6009\n",
      "Epoch 11/10000\n",
      "261647/261647 [==============================] - 13s 51us/step - loss: 0.2362 - acc: 0.6015 - val_loss: 0.2355 - val_acc: 0.6040\n",
      "Epoch 12/10000\n",
      "261647/261647 [==============================] - 12s 45us/step - loss: 0.2355 - acc: 0.6040 - val_loss: 0.2348 - val_acc: 0.6069\n",
      "Epoch 13/10000\n",
      "261647/261647 [==============================] - 15s 57us/step - loss: 0.2348 - acc: 0.6062 - val_loss: 0.2342 - val_acc: 0.6091\n",
      "Epoch 14/10000\n",
      "261647/261647 [==============================] - 14s 53us/step - loss: 0.2343 - acc: 0.6080 - val_loss: 0.2336 - val_acc: 0.6105\n",
      "Epoch 15/10000\n",
      "261647/261647 [==============================] - 12s 45us/step - loss: 0.2337 - acc: 0.6098 - val_loss: 0.2331 - val_acc: 0.6112\n",
      "Epoch 16/10000\n",
      "261647/261647 [==============================] - 12s 47us/step - loss: 0.2333 - acc: 0.6116 - val_loss: 0.2327 - val_acc: 0.6124\n",
      "Epoch 17/10000\n",
      "261647/261647 [==============================] - 13s 51us/step - loss: 0.2328 - acc: 0.6130 - val_loss: 0.2323 - val_acc: 0.6136\n",
      "Epoch 18/10000\n",
      "261647/261647 [==============================] - 14s 54us/step - loss: 0.2324 - acc: 0.6144 - val_loss: 0.2319 - val_acc: 0.6149\n",
      "Epoch 19/10000\n",
      "261647/261647 [==============================] - 18s 68us/step - loss: 0.2321 - acc: 0.6151 - val_loss: 0.2316 - val_acc: 0.6155\n",
      "Epoch 20/10000\n",
      "261647/261647 [==============================] - 15s 56us/step - loss: 0.2317 - acc: 0.6161 - val_loss: 0.2313 - val_acc: 0.6163\n",
      "Epoch 21/10000\n",
      "261647/261647 [==============================] - 12s 48us/step - loss: 0.2314 - acc: 0.6169 - val_loss: 0.2310 - val_acc: 0.6171\n",
      "Epoch 22/10000\n",
      "261647/261647 [==============================] - 14s 54us/step - loss: 0.2311 - acc: 0.6177 - val_loss: 0.2308 - val_acc: 0.6179\n",
      "Epoch 23/10000\n",
      "261647/261647 [==============================] - 16s 62us/step - loss: 0.2309 - acc: 0.6183 - val_loss: 0.2305 - val_acc: 0.6182\n",
      "Epoch 24/10000\n",
      "138880/261647 [==============>...............] - ETA: 6s - loss: 0.2305 - acc: 0.6200"
     ]
    }
   ],
   "source": [
    "#ajustando o modelo com critério de parada de 10 épocas sem melhorias\n",
    "mlp.fit(x_train, y_train, batch_size=64, epochs=10000, callbacks=[callbacks.EarlyStopping(patience=10)], validation_data=(x_val, y_val))"
   ]
  }
 ],
 "metadata": {
  "kernelspec": {
   "display_name": "Python 3",
   "language": "python",
   "name": "python3"
  },
  "language_info": {
   "codemirror_mode": {
    "name": "ipython",
    "version": 3
   },
   "file_extension": ".py",
   "mimetype": "text/x-python",
   "name": "python",
   "nbconvert_exporter": "python",
   "pygments_lexer": "ipython3",
   "version": "3.6.5"
  }
 },
 "nbformat": 4,
 "nbformat_minor": 2
}
